{
 "cells": [
  {
   "cell_type": "markdown",
   "metadata": {},
   "source": [
    "Problem Statement:\n",
    "    \n",
    "I have to program a Python script to perform sentiment analysis of the Twitter activity of news outlets - BBC, CBS, CNN, Fox, and New York times - and present findings visually.\n",
    "    \n",
    "Step 1 : I import the libraries and packages (a.k.a tools of trade!) for my analysis."
   ]
  },
  {
   "cell_type": "code",
   "execution_count": 52,
   "metadata": {},
   "outputs": [],
   "source": [
    "# Import dependencies\n",
    "\n",
    "import tweepy\n",
    "import json\n",
    "import numpy as np\n",
    "import pandas as pd\n",
    "\n",
    "from datetime import date\n",
    "import matplotlib.pyplot as plt\n",
    "import seaborn as sns\n",
    "\n",
    "\n",
    "# Twitter API Keys\n",
    "\n",
    "consumer_key = \"aoCDolf5adnIaw8yzMmxy1EH4\"\n",
    "consumer_secret = \"LBmKVfpZoqOT6YVsWcjXa1ZyXjZ2i8hu4LhbnvVOBwwvu6hjF8\"\n",
    "access_token = \"161980186-vjLsfGo6lCe92ttUonuaTxUAOsy9J5eDDOjH2sjf\"\n",
    "access_token_secret = \"M1XVIyVrdx6nVI8ty59O4zbSEx6mkEX5guhF1yeT9wjl2\"\n",
    "\n",
    "# Import and Initialize Sentiment Analyzer\n",
    "\n",
    "from vaderSentiment.vaderSentiment import SentimentIntensityAnalyzer\n",
    "analyzer = SentimentIntensityAnalyzer()"
   ]
  },
  {
   "cell_type": "markdown",
   "metadata": {},
   "source": [
    "Step 2 : I set up tweepy authetication to take my API keys and grant me authorization to use API results."
   ]
  },
  {
   "cell_type": "code",
   "execution_count": 2,
   "metadata": {},
   "outputs": [],
   "source": [
    "# Setup Tweepy API Authentication\n",
    "\n",
    "auth = tweepy.OAuthHandler(consumer_key, consumer_secret)\n",
    "auth.set_access_token(access_token, access_token_secret)\n",
    "api = tweepy.API(auth, parser=tweepy.parsers.JSONParser())"
   ]
  },
  {
   "cell_type": "code",
   "execution_count": 38,
   "metadata": {},
   "outputs": [],
   "source": [
    "# Define target accounts for BBC, CBS, CNN, Fox, and New York times\n",
    "\n",
    "target_user = [\"BBCWorld\",\"CBSNews\",\"CNN\",\"FoxNews\",\"nytimes\"]"
   ]
  },
  {
   "cell_type": "code",
   "execution_count": 39,
   "metadata": {},
   "outputs": [],
   "source": [
    "# Counter\n",
    "\n",
    "counter = 1\n",
    "\n",
    "# Lists to hold sentiments\n",
    "\n",
    "sentiments = []"
   ]
  },
  {
   "cell_type": "code",
   "execution_count": 40,
   "metadata": {},
   "outputs": [],
   "source": [
    "# Grab 100 tweets for each target user and loop through it \n",
    "\n",
    "for target in target_user:\n",
    "    at_target = \"@\" + target\n",
    "    public_tweets = api.user_timeline(at_target, count=5, result_type=\"recent\")\n",
    "    \n",
    "    for tweet in public_tweets:\n",
    "        \n",
    "        # Run Vader Analysis on each tweet\n",
    "        \n",
    "        results = analyzer.polarity_scores(tweet[\"text\"])\n",
    "        compound = results[\"compound\"]\n",
    "        pos = results[\"pos\"]\n",
    "        neu = results[\"neu\"]\n",
    "        neg = results[\"neg\"]\n",
    "        tweets_ago = counter\n",
    "\n",
    "        # Add sentiments for each tweet into a list\n",
    "        \n",
    "        sentiments.append({\"Date\": tweet[\"created_at\"], \n",
    "                           \"News_Source\":target,\n",
    "                           \"Compound\": compound,\n",
    "                           \"Positive\": pos,\n",
    "                           \"Negative\": neu,\n",
    "                           \"Neutral\": neg,\n",
    "                           \"Tweets Ago\": counter,\n",
    "                           \"Tweet\":tweet[\"text\"]})\n",
    "        \n",
    "        # Add to counter \n",
    "        \n",
    "        counter = counter + 1\n",
    "        "
   ]
  },
  {
   "cell_type": "code",
   "execution_count": 49,
   "metadata": {},
   "outputs": [
    {
     "data": {
      "text/plain": [
       "CBS               5\n",
       "Fox               5\n",
       "New_York_Times    5\n",
       "CNN               5\n",
       "BBC               5\n",
       "Name: News_Source, dtype: int64"
      ]
     },
     "execution_count": 49,
     "metadata": {},
     "output_type": "execute_result"
    }
   ],
   "source": [
    "# Convert sentiments to DataFrame\n",
    "\n",
    "sentiments_pd = pd.DataFrame.from_dict(sentiments)\n",
    "\n",
    "# Replace the Twitter Handles with identifiable news outlets\n",
    "\n",
    "sentiments_pd.News_Source = sentiments_pd.News_Source.replace({\"BBCWorld\":\"BBC\",\n",
    "                                                               \"CNN\": \"CNN\",\n",
    "                                                               \"FoxNews\":\"Fox\",\n",
    "                                                               \"nytimes\" :\"New_York_Times\",\n",
    "                                                               \"CBSNews\":\"CBS\"})\n",
    "# Display the 5 outlets to validate\n",
    "\n",
    "sentiments_pd[\"News_Source\"].value_counts()"
   ]
  },
  {
   "cell_type": "code",
   "execution_count": 47,
   "metadata": {},
   "outputs": [
    {
     "data": {
      "image/png": "[encoded data removed]",
      "text/plain": [
       "<Figure size 432x288 with 1 Axes>"
      ]
     },
     "metadata": {},
     "output_type": "display_data"
    }
   ],
   "source": [
    "# Create plot\n",
    "\n",
    "x_vals = sentiments_pd[\"Tweets Ago\"]\n",
    "y_vals = sentiments_pd[\"Compound\"]\n",
    "\n",
    "# label =sentiments_pd.groupby[\"News_Source\"]\n",
    "\n",
    "plt.scatter(x_vals,y_vals,c=['red','green','blue','yellow','fuchsia'], marker=\"o\", edgecolors='black',linewidth=0.5,alpha=0.8)\n",
    "\n",
    "# # Incorporate the other graph properties\n",
    "now = datetime.now()\n",
    "now = now.strftime(\"%Y-%m-%d\")\n",
    "plt.title(f\"Sentiment Analysis of Media Tweets ({now})\")\n",
    "plt.xlim([0,30])\n",
    "plt.ylabel(\"Tweet Polarity\")\n",
    "plt.xlabel(\"Tweets Ago\")\n",
    "# plt.legend()\n",
    "plt.show()"
   ]
  },
  {
   "cell_type": "code",
   "execution_count": 55,
   "metadata": {},
   "outputs": [
    {
     "data": {
      "image/png": "[encoded data removed]",
      "text/plain": [
       "<Figure size 432x432 with 1 Axes>"
      ]
     },
     "metadata": {},
     "output_type": "display_data"
    }
   ],
   "source": [
    "# Define the lmplot structure\n",
    "\n",
    "sns.set()\n",
    "\n",
    "sns.set_context(\"notebook\")\n",
    "\n",
    "sns_plot1 = sns.lmplot( x=\"Tweets Ago\", y=\"Compound\",size=6, data = sentiments_pd,fit_reg=False, \n",
    "           hue=\"News_Source\", legend=False, palette=dict(CBS=\"#0343df\",Fox=\"#01ff07\",CNN=\"#e50000\",\n",
    "                                                         BBC=\"#ed0dd9\",New_York_Times=\"#fac205\" ))\n",
    "\n",
    "Today_Date = str(date.today())\n",
    "\n",
    "\n",
    "# Label the plot\n",
    "\n",
    "Plot_Title = f\"Sentiment Analysis of Media Tweets: {Today_Date}\"\n",
    "\n",
    "plt.title(Plot_Title)\n",
    "\n",
    "plt.ylabel(\"Tweet Polarity\")\n",
    "plt.xlabel(\"Tweets Ago\")\n",
    "\n",
    "plt.xlim(0,30)\n",
    "plt.ylim(-1.2, 1.2)\n",
    "\n",
    "plt.legend(bbox_to_anchor=(1.05, 1), loc=2, borderaxespad=0.)\n",
    "\n",
    "# Save the image and display\n",
    "\n",
    "sns_plot1.savefig(\"../Images/TweetPolarity_TweetsAgo.png\")\n",
    "\n",
    "plt.show(sns_plot1)\n"
   ]
  },
  {
   "cell_type": "code",
   "execution_count": null,
   "metadata": {},
   "outputs": [],
   "source": []
  }
 ],
 "metadata": {
  "kernelspec": {
   "display_name": "Python 3",
   "language": "python",
   "name": "python3"
  },
  "language_info": {
   "codemirror_mode": {
    "name": "ipython",
    "version": 3
   },
   "file_extension": ".py",
   "mimetype": "text/x-python",
   "name": "python",
   "nbconvert_exporter": "python",
   "pygments_lexer": "ipython3",
   "version": "3.6.5"
  }
 },
 "nbformat": 4,
 "nbformat_minor": 2
}
